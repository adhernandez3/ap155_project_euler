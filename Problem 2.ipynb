{
 "cells": [
  {
   "cell_type": "code",
   "execution_count": 1,
   "id": "1e751621-abb7-4cad-8468-07f9deadd50c",
   "metadata": {},
   "outputs": [
    {
     "name": "stdout",
     "output_type": "stream",
     "text": [
      "4613732\n"
     ]
    }
   ],
   "source": [
    "def even(x):\n",
    "  remainder = x%2\n",
    "  if remainder==0:\n",
    "    return True\n",
    "  else:\n",
    "    return False\n",
    "\n",
    "ceiling = 4000000\n",
    "f_0, f_1 = 1, 2\n",
    "\n",
    "even_fibonacci=[]\n",
    "while f_0 < ceiling:\n",
    "  f_0, f_1 = f_1,f_0 + f_1\n",
    "  if even(f_0):\n",
    "    even_fibonacci.append(f_0)\n",
    "\n",
    "total=sum(even_fibonacci) \n",
    "print(total) "
   ]
  },
  {
   "cell_type": "code",
   "execution_count": null,
   "id": "e9cd9857-c053-47ff-9936-46281f601949",
   "metadata": {},
   "outputs": [],
   "source": []
  }
 ],
 "metadata": {
  "kernelspec": {
   "display_name": "Python 3 (ipykernel)",
   "language": "python",
   "name": "python3"
  },
  "language_info": {
   "codemirror_mode": {
    "name": "ipython",
    "version": 3
   },
   "file_extension": ".py",
   "mimetype": "text/x-python",
   "name": "python",
   "nbconvert_exporter": "python",
   "pygments_lexer": "ipython3",
   "version": "3.12.11"
  }
 },
 "nbformat": 4,
 "nbformat_minor": 5
}
