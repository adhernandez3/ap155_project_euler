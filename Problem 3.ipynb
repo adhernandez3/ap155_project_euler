{
 "cells": [
  {
   "cell_type": "code",
   "execution_count": 7,
   "id": "9c7216ad-f769-41a1-8ca3-7d86747136d2",
   "metadata": {},
   "outputs": [],
   "source": [
    "def is_number_prime(input_number):\n",
    "    divisor = 2\n",
    "    my_factors = []\n",
    "    while divisor < input_number:\n",
    "        remainder = input_number % divisor\n",
    "        if remainder == 0:\n",
    "            my_factors.append(divisor)\n",
    "        divisor = divisor + 1\n",
    "\n",
    "    if len(my_factors) == 0:\n",
    "        return True # it is indeed prime\n",
    "    else:\n",
    "        return False # factors is not empty, so not prime"
   ]
  },
  {
   "cell_type": "code",
   "execution_count": null,
   "id": "f19d0c3e-5d68-4d28-ad77-1e505776151c",
   "metadata": {},
   "outputs": [],
   "source": [
    "my_num = 600851475143\n",
    "\n",
    "# starting with 2, iterate up to the number in question \n",
    "# and check which of them will have remainder 0.\n",
    "divisor = 2\n",
    "my_factors = []\n",
    "while divisor < my_num:\n",
    "    remainder = my_num % divisor\n",
    "    if remainder == 0:\n",
    "        my_factors.append(divisor)\n",
    "    divisor = divisor + 1\n",
    "\n",
    "\n",
    "for factor in my_factors:\n",
    "    if is_number_prime(factor):\n",
    "        print(factor)"
   ]
  },
  {
   "cell_type": "code",
   "execution_count": null,
   "id": "97c0f692-494a-43c7-92c3-e007474eb88d",
   "metadata": {},
   "outputs": [],
   "source": []
  }
 ],
 "metadata": {
  "kernelspec": {
   "display_name": "Python 3 (ipykernel)",
   "language": "python",
   "name": "python3"
  },
  "language_info": {
   "codemirror_mode": {
    "name": "ipython",
    "version": 3
   },
   "file_extension": ".py",
   "mimetype": "text/x-python",
   "name": "python",
   "nbconvert_exporter": "python",
   "pygments_lexer": "ipython3",
   "version": "3.12.11"
  }
 },
 "nbformat": 4,
 "nbformat_minor": 5
}
